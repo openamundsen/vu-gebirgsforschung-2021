{
 "cells": [
  {
   "cell_type": "markdown",
   "id": "d87f3777",
   "metadata": {},
   "source": [
    "# Proviantdepot\n",
    "\n",
    "Dieses Notebook führt einen openAMUNDSEN-Modelllauf am Punkt für die Station Proviantdepot durch. Die Einstellungen und Parameter für den Modelllauf werden dabei in der Datei `proviantdepot.yml` getroffen. Nach dem Ausführen des Notebooks sind die Modellergebnisse als Zeitreihen in der Datei `results/proviantdepot/point_proviantdepot.csv` zu finden."
   ]
  },
  {
   "cell_type": "code",
   "execution_count": null,
   "id": "rational-colorado",
   "metadata": {},
   "outputs": [],
   "source": [
    "import openamundsen as oa"
   ]
  },
  {
   "cell_type": "code",
   "execution_count": null,
   "id": "rising-chain",
   "metadata": {},
   "outputs": [],
   "source": [
    "config = oa.read_config('proviantdepot.yml')\n",
    "model = oa.OpenAmundsen(config)"
   ]
  },
  {
   "cell_type": "code",
   "execution_count": null,
   "id": "handmade-cinema",
   "metadata": {},
   "outputs": [],
   "source": [
    "model.initialize()"
   ]
  },
  {
   "cell_type": "code",
   "execution_count": null,
   "id": "ordinary-shell",
   "metadata": {},
   "outputs": [],
   "source": [
    "model.run()"
   ]
  }
 ],
 "metadata": {
  "kernelspec": {
   "display_name": "Python 3",
   "language": "python",
   "name": "python3"
  },
  "language_info": {
   "codemirror_mode": {
    "name": "ipython",
    "version": 3
   },
   "file_extension": ".py",
   "mimetype": "text/x-python",
   "name": "python",
   "nbconvert_exporter": "python",
   "pygments_lexer": "ipython3",
   "version": "3.9.2"
  }
 },
 "nbformat": 4,
 "nbformat_minor": 5
}
