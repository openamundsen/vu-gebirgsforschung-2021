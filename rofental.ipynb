{
 "cells": [
  {
   "cell_type": "code",
   "execution_count": null,
   "id": "mediterranean-hammer",
   "metadata": {},
   "outputs": [],
   "source": [
    "import openamundsen as oa"
   ]
  },
  {
   "cell_type": "code",
   "execution_count": null,
   "id": "sexual-company",
   "metadata": {},
   "outputs": [],
   "source": [
    "config = oa.read_config('rofental.yml')\n",
    "model = oa.OpenAmundsen(config)"
   ]
  },
  {
   "cell_type": "code",
   "execution_count": null,
   "id": "martial-notion",
   "metadata": {},
   "outputs": [],
   "source": [
    "model.initialize()"
   ]
  },
  {
   "cell_type": "code",
   "execution_count": null,
   "id": "august-climate",
   "metadata": {},
   "outputs": [],
   "source": [
    "model.run()"
   ]
  }
 ],
 "metadata": {
  "kernelspec": {
   "display_name": "Python 3",
   "language": "python",
   "name": "python3"
  },
  "language_info": {
   "codemirror_mode": {
    "name": "ipython",
    "version": 3
   },
   "file_extension": ".py",
   "mimetype": "text/x-python",
   "name": "python",
   "nbconvert_exporter": "python",
   "pygments_lexer": "ipython3",
   "version": "3.8.10"
  }
 },
 "nbformat": 4,
 "nbformat_minor": 5
}
